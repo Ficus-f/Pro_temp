{
 "cells": [
  {
   "cell_type": "code",
   "execution_count": 1,
   "metadata": {},
   "outputs": [],
   "source": [
    "import pandas as pd\n",
    "\n",
    "train = pd.read_csv(\"./data/labeledTrainData.tsv\", header=0, delimiter=\"\\t\", quoting=3)\n",
    "test = pd.read_csv(\"./data/testData.tsv\", header=0, delimiter=\"\\t\", quoting=3)\n",
    "unlabeled_train = pd.read_csv(\"./data/unlabeledTrainData.tsv\", header=0, delimiter=\"\\t\", quoting=3)"
   ]
  },
  {
   "cell_type": "code",
   "execution_count": 2,
   "metadata": {},
   "outputs": [],
   "source": [
    "from bs4 import BeautifulSoup\n",
    "import re\n",
    "from nltk.corpus import stopwords\n",
    "\n",
    "def review_to_wordlist(review, remove_stopwords=False):\n",
    "    review_text = BeautifulSoup(review).get_text()\n",
    "    review_text = re.sub(\"[^a-zA-Z]\", \" \", review_text)\n",
    "    words = review_text.lower().split()\n",
    "    if remove_stopwords:\n",
    "        stops = set(stopwords.words(\"english\"))\n",
    "        words = [w for w in words if not w in stops]\n",
    "    return (words)"
   ]
  },
  {
   "cell_type": "code",
   "execution_count": 3,
   "metadata": {},
   "outputs": [],
   "source": [
    "import nltk\n",
    "\n",
    "tokenizer = nltk.data.load('tokenizers/punkt/english.pickle')\n",
    "\n",
    "def review_to_sentences(review, tokenizer, remove_stopwords=False):\n",
    "    raw_sentences = tokenizer.tokenize(review.strip())\n",
    "    sentences = []\n",
    "    for raw_sentence in raw_sentences:\n",
    "        if len(raw_sentence) > 0:\n",
    "            sentences.append(review_to_wordlist(raw_sentence, remove_stopwords))\n",
    "    return sentences"
   ]
  },
  {
   "cell_type": "code",
   "execution_count": 4,
   "metadata": {},
   "outputs": [
    {
     "name": "stderr",
     "output_type": "stream",
     "text": [
      "D:\\Develop\\Anaconda\\Lib\\site-packages\\bs4\\__init__.py:181: UserWarning: No parser was explicitly specified, so I'm using the best available HTML parser for this system (\"lxml\"). This usually isn't a problem, but if you run this code on another system, or in a different virtual environment, it may use a different parser and behave differently.\n",
      "\n",
      "The code that caused this warning is on line 193 of the file D:\\Develop\\Anaconda\\lib\\runpy.py. To get rid of this warning, change code that looks like this:\n",
      "\n",
      " BeautifulSoup(YOUR_MARKUP})\n",
      "\n",
      "to this:\n",
      "\n",
      " BeautifulSoup(YOUR_MARKUP, \"lxml\")\n",
      "\n",
      "  markup_type=markup_type))\n",
      "D:\\Develop\\Anaconda\\Lib\\site-packages\\bs4\\__init__.py:219: UserWarning: \"b'.'\" looks like a filename, not markup. You should probably open this file and pass the filehandle into Beautiful Soup.\n",
      "  ' Beautiful Soup.' % markup)\n",
      "D:\\Develop\\Anaconda\\Lib\\site-packages\\bs4\\__init__.py:219: UserWarning: \"b'...'\" looks like a filename, not markup. You should probably open this file and pass the filehandle into Beautiful Soup.\n",
      "  ' Beautiful Soup.' % markup)\n",
      "D:\\Develop\\Anaconda\\Lib\\site-packages\\bs4\\__init__.py:282: UserWarning: \"http://www.happierabroad.com\"\" looks like a URL. Beautiful Soup is not an HTTP client. You should probably use an HTTP client like requests to get the document behind the URL, and feed that document to Beautiful Soup.\n",
      "  ' that document to Beautiful Soup.' % decoded_markup\n",
      "D:\\Develop\\Anaconda\\Lib\\site-packages\\bs4\\__init__.py:282: UserWarning: \"http://www.archive.org/details/LovefromaStranger\"\" looks like a URL. Beautiful Soup is not an HTTP client. You should probably use an HTTP client like requests to get the document behind the URL, and feed that document to Beautiful Soup.\n",
      "  ' that document to Beautiful Soup.' % decoded_markup\n",
      "D:\\Develop\\Anaconda\\Lib\\site-packages\\bs4\\__init__.py:282: UserWarning: \"http://www.loosechangeguide.com/LooseChangeGuide.html\"\" looks like a URL. Beautiful Soup is not an HTTP client. You should probably use an HTTP client like requests to get the document behind the URL, and feed that document to Beautiful Soup.\n",
      "  ' that document to Beautiful Soup.' % decoded_markup\n",
      "D:\\Develop\\Anaconda\\Lib\\site-packages\\bs4\\__init__.py:219: UserWarning: \"b'... ...'\" looks like a filename, not markup. You should probably open this file and pass the filehandle into Beautiful Soup.\n",
      "  ' Beautiful Soup.' % markup)\n",
      "D:\\Develop\\Anaconda\\Lib\\site-packages\\bs4\\__init__.py:219: UserWarning: \"b'....'\" looks like a filename, not markup. You should probably open this file and pass the filehandle into Beautiful Soup.\n",
      "  ' Beautiful Soup.' % markup)\n",
      "D:\\Develop\\Anaconda\\Lib\\site-packages\\bs4\\__init__.py:282: UserWarning: \"http://www.msnbc.msn.com/id/4972055/site/newsweek/\"\" looks like a URL. Beautiful Soup is not an HTTP client. You should probably use an HTTP client like requests to get the document behind the URL, and feed that document to Beautiful Soup.\n",
      "  ' that document to Beautiful Soup.' % decoded_markup\n",
      "D:\\Develop\\Anaconda\\Lib\\site-packages\\bs4\\__init__.py:219: UserWarning: \"b'..'\" looks like a filename, not markup. You should probably open this file and pass the filehandle into Beautiful Soup.\n",
      "  ' Beautiful Soup.' % markup)\n",
      "D:\\Develop\\Anaconda\\Lib\\site-packages\\bs4\\__init__.py:282: UserWarning: \"http://www.youtube.com/watch?v=a0KSqelmgN8\"\" looks like a URL. Beautiful Soup is not an HTTP client. You should probably use an HTTP client like requests to get the document behind the URL, and feed that document to Beautiful Soup.\n",
      "  ' that document to Beautiful Soup.' % decoded_markup\n",
      "D:\\Develop\\Anaconda\\Lib\\site-packages\\bs4\\__init__.py:219: UserWarning: \"b'.. .'\" looks like a filename, not markup. You should probably open this file and pass the filehandle into Beautiful Soup.\n",
      "  ' Beautiful Soup.' % markup)\n",
      "D:\\Develop\\Anaconda\\Lib\\site-packages\\bs4\\__init__.py:282: UserWarning: \"http://jake-weird.blogspot.com/2007/08/beneath.html\"\" looks like a URL. Beautiful Soup is not an HTTP client. You should probably use an HTTP client like requests to get the document behind the URL, and feed that document to Beautiful Soup.\n",
      "  ' that document to Beautiful Soup.' % decoded_markup\n"
     ]
    }
   ],
   "source": [
    "sentences = []\n",
    "for review in train[\"review\"]:\n",
    "    sentences += review_to_sentences(review, tokenizer)\n",
    "    \n",
    "for review in unlabeled_train[\"review\"]:\n",
    "    sentences += review_to_sentences(review, tokenizer)"
   ]
  },
  {
   "cell_type": "code",
   "execution_count": 5,
   "metadata": {},
   "outputs": [
    {
     "name": "stdout",
     "output_type": "stream",
     "text": [
      "795538\n",
      "['with', 'all', 'this', 'stuff', 'going', 'down', 'at', 'the', 'moment', 'with', 'mj', 'i', 've', 'started', 'listening', 'to', 'his', 'music', 'watching', 'the', 'odd', 'documentary', 'here', 'and', 'there', 'watched', 'the', 'wiz', 'and', 'watched', 'moonwalker', 'again']\n",
      "['maybe', 'i', 'just', 'want', 'to', 'get', 'a', 'certain', 'insight', 'into', 'this', 'guy', 'who', 'i', 'thought', 'was', 'really', 'cool', 'in', 'the', 'eighties', 'just', 'to', 'maybe', 'make', 'up', 'my', 'mind', 'whether', 'he', 'is', 'guilty', 'or', 'innocent']\n"
     ]
    }
   ],
   "source": [
    "print(len(sentences))\n",
    "print(sentences[0])\n",
    "print(sentences[1])"
   ]
  },
  {
   "cell_type": "code",
   "execution_count": 6,
   "metadata": {},
   "outputs": [],
   "source": [
    "## 训练 & 保存模型"
   ]
  },
  {
   "cell_type": "code",
   "execution_count": 7,
   "metadata": {},
   "outputs": [
    {
     "name": "stderr",
     "output_type": "stream",
     "text": [
      "D:\\Develop\\Anaconda\\Lib\\site-packages\\gensim\\utils.py:1209: UserWarning: detected Windows; aliasing chunkize to chunkize_serial\n",
      "  warnings.warn(\"detected Windows; aliasing chunkize to chunkize_serial\")\n",
      "2020-10-25 18:47:24,279: INFO: 'pattern' package not found; tag filters are not available for English\n",
      "2020-10-25 18:47:24,289: INFO: collecting all words and their counts\n",
      "2020-10-25 18:47:24,290: INFO: PROGRESS: at sentence #0, processed 0 words, keeping 0 word types\n",
      "2020-10-25 18:47:24,328: INFO: PROGRESS: at sentence #10000, processed 225803 words, keeping 17776 word types\n",
      "2020-10-25 18:47:24,367: INFO: PROGRESS: at sentence #20000, processed 451892 words, keeping 24948 word types\n",
      "2020-10-25 18:47:24,405: INFO: PROGRESS: at sentence #30000, processed 671315 words, keeping 30034 word types\n",
      "2020-10-25 18:47:24,443: INFO: PROGRESS: at sentence #40000, processed 897815 words, keeping 34348 word types\n",
      "2020-10-25 18:47:24,482: INFO: PROGRESS: at sentence #50000, processed 1116963 words, keeping 37761 word types\n",
      "2020-10-25 18:47:24,521: INFO: PROGRESS: at sentence #60000, processed 1338404 words, keeping 40723 word types\n",
      "2020-10-25 18:47:24,559: INFO: PROGRESS: at sentence #70000, processed 1561580 words, keeping 43333 word types\n",
      "2020-10-25 18:47:24,610: INFO: PROGRESS: at sentence #80000, processed 1780887 words, keeping 45714 word types\n",
      "2020-10-25 18:47:24,650: INFO: PROGRESS: at sentence #90000, processed 2004996 words, keeping 48135 word types\n",
      "2020-10-25 18:47:24,690: INFO: PROGRESS: at sentence #100000, processed 2226966 words, keeping 50207 word types\n",
      "2020-10-25 18:47:24,731: INFO: PROGRESS: at sentence #110000, processed 2446580 words, keeping 52081 word types\n",
      "2020-10-25 18:47:24,772: INFO: PROGRESS: at sentence #120000, processed 2668775 words, keeping 54119 word types\n",
      "2020-10-25 18:47:24,812: INFO: PROGRESS: at sentence #130000, processed 2894303 words, keeping 55847 word types\n",
      "2020-10-25 18:47:24,854: INFO: PROGRESS: at sentence #140000, processed 3107005 words, keeping 57346 word types\n",
      "2020-10-25 18:47:24,897: INFO: PROGRESS: at sentence #150000, processed 3332627 words, keeping 59055 word types\n",
      "2020-10-25 18:47:24,939: INFO: PROGRESS: at sentence #160000, processed 3555315 words, keeping 60617 word types\n",
      "2020-10-25 18:47:24,979: INFO: PROGRESS: at sentence #170000, processed 3778655 words, keeping 62077 word types\n",
      "2020-10-25 18:47:25,022: INFO: PROGRESS: at sentence #180000, processed 3999236 words, keeping 63496 word types\n",
      "2020-10-25 18:47:25,058: INFO: PROGRESS: at sentence #190000, processed 4224449 words, keeping 64794 word types\n",
      "2020-10-25 18:47:25,102: INFO: PROGRESS: at sentence #200000, processed 4448603 words, keeping 66087 word types\n",
      "2020-10-25 18:47:25,143: INFO: PROGRESS: at sentence #210000, processed 4669967 words, keeping 67390 word types\n",
      "2020-10-25 18:47:25,182: INFO: PROGRESS: at sentence #220000, processed 4894968 words, keeping 68697 word types\n",
      "2020-10-25 18:47:25,226: INFO: PROGRESS: at sentence #230000, processed 5117545 words, keeping 69958 word types\n",
      "2020-10-25 18:47:25,267: INFO: PROGRESS: at sentence #240000, processed 5345050 words, keeping 71167 word types\n",
      "2020-10-25 18:47:25,305: INFO: PROGRESS: at sentence #250000, processed 5559165 words, keeping 72351 word types\n",
      "2020-10-25 18:47:25,345: INFO: PROGRESS: at sentence #260000, processed 5779146 words, keeping 73478 word types\n",
      "2020-10-25 18:47:25,383: INFO: PROGRESS: at sentence #270000, processed 6000435 words, keeping 74767 word types\n",
      "2020-10-25 18:47:25,429: INFO: PROGRESS: at sentence #280000, processed 6226314 words, keeping 76369 word types\n",
      "2020-10-25 18:47:25,473: INFO: PROGRESS: at sentence #290000, processed 6449474 words, keeping 77839 word types\n",
      "2020-10-25 18:47:25,520: INFO: PROGRESS: at sentence #300000, processed 6674077 words, keeping 79171 word types\n",
      "2020-10-25 18:47:25,565: INFO: PROGRESS: at sentence #310000, processed 6899391 words, keeping 80480 word types\n",
      "2020-10-25 18:47:25,611: INFO: PROGRESS: at sentence #320000, processed 7124278 words, keeping 81808 word types\n",
      "2020-10-25 18:47:25,656: INFO: PROGRESS: at sentence #330000, processed 7346021 words, keeping 83030 word types\n",
      "2020-10-25 18:47:25,704: INFO: PROGRESS: at sentence #340000, processed 7575533 words, keeping 84280 word types\n",
      "2020-10-25 18:47:25,750: INFO: PROGRESS: at sentence #350000, processed 7798803 words, keeping 85425 word types\n",
      "2020-10-25 18:47:25,791: INFO: PROGRESS: at sentence #360000, processed 8019427 words, keeping 86596 word types\n",
      "2020-10-25 18:47:25,833: INFO: PROGRESS: at sentence #370000, processed 8246619 words, keeping 87708 word types\n",
      "2020-10-25 18:47:25,875: INFO: PROGRESS: at sentence #380000, processed 8471766 words, keeping 88878 word types\n",
      "2020-10-25 18:47:25,916: INFO: PROGRESS: at sentence #390000, processed 8701497 words, keeping 89907 word types\n",
      "2020-10-25 18:47:25,961: INFO: PROGRESS: at sentence #400000, processed 8924446 words, keeping 90916 word types\n",
      "2020-10-25 18:47:26,006: INFO: PROGRESS: at sentence #410000, processed 9145796 words, keeping 91880 word types\n",
      "2020-10-25 18:47:26,052: INFO: PROGRESS: at sentence #420000, processed 9366876 words, keeping 92912 word types\n",
      "2020-10-25 18:47:26,095: INFO: PROGRESS: at sentence #430000, processed 9594413 words, keeping 93932 word types\n",
      "2020-10-25 18:47:26,141: INFO: PROGRESS: at sentence #440000, processed 9821166 words, keeping 94906 word types\n",
      "2020-10-25 18:47:26,182: INFO: PROGRESS: at sentence #450000, processed 10044928 words, keeping 96036 word types\n",
      "2020-10-25 18:47:26,224: INFO: PROGRESS: at sentence #460000, processed 10277688 words, keeping 97088 word types\n",
      "2020-10-25 18:47:26,266: INFO: PROGRESS: at sentence #470000, processed 10505613 words, keeping 97933 word types\n",
      "2020-10-25 18:47:26,304: INFO: PROGRESS: at sentence #480000, processed 10725997 words, keeping 98862 word types\n",
      "2020-10-25 18:47:26,343: INFO: PROGRESS: at sentence #490000, processed 10952741 words, keeping 99871 word types\n",
      "2020-10-25 18:47:26,383: INFO: PROGRESS: at sentence #500000, processed 11174397 words, keeping 100765 word types\n",
      "2020-10-25 18:47:26,423: INFO: PROGRESS: at sentence #510000, processed 11399672 words, keeping 101699 word types\n",
      "2020-10-25 18:47:26,467: INFO: PROGRESS: at sentence #520000, processed 11623020 words, keeping 102598 word types\n",
      "2020-10-25 18:47:26,509: INFO: PROGRESS: at sentence #530000, processed 11847418 words, keeping 103400 word types\n",
      "2020-10-25 18:47:26,552: INFO: PROGRESS: at sentence #540000, processed 12072033 words, keeping 104265 word types\n",
      "2020-10-25 18:47:26,595: INFO: PROGRESS: at sentence #550000, processed 12297571 words, keeping 105133 word types\n",
      "2020-10-25 18:47:26,636: INFO: PROGRESS: at sentence #560000, processed 12518861 words, keeping 105997 word types\n",
      "2020-10-25 18:47:26,677: INFO: PROGRESS: at sentence #570000, processed 12747916 words, keeping 106787 word types\n",
      "2020-10-25 18:47:26,721: INFO: PROGRESS: at sentence #580000, processed 12969412 words, keeping 107665 word types\n",
      "2020-10-25 18:47:26,766: INFO: PROGRESS: at sentence #590000, processed 13194937 words, keeping 108501 word types\n",
      "2020-10-25 18:47:26,808: INFO: PROGRESS: at sentence #600000, processed 13417135 words, keeping 109218 word types\n",
      "2020-10-25 18:47:26,853: INFO: PROGRESS: at sentence #610000, processed 13638158 words, keeping 110092 word types\n",
      "2020-10-25 18:47:26,903: INFO: PROGRESS: at sentence #620000, processed 13864483 words, keeping 110837 word types\n",
      "2020-10-25 18:47:26,946: INFO: PROGRESS: at sentence #630000, processed 14088769 words, keeping 111610 word types\n",
      "2020-10-25 18:47:26,989: INFO: PROGRESS: at sentence #640000, processed 14309552 words, keeping 112416 word types\n",
      "2020-10-25 18:47:27,027: INFO: PROGRESS: at sentence #650000, processed 14535308 words, keeping 113196 word types\n",
      "2020-10-25 18:47:27,070: INFO: PROGRESS: at sentence #660000, processed 14758098 words, keeping 113945 word types\n",
      "2020-10-25 18:47:27,109: INFO: PROGRESS: at sentence #670000, processed 14981482 words, keeping 114643 word types\n",
      "2020-10-25 18:47:27,154: INFO: PROGRESS: at sentence #680000, processed 15206314 words, keeping 115354 word types\n",
      "2020-10-25 18:47:27,191: INFO: PROGRESS: at sentence #690000, processed 15428507 words, keeping 116131 word types\n"
     ]
    },
    {
     "name": "stderr",
     "output_type": "stream",
     "text": [
      "2020-10-25 18:47:27,235: INFO: PROGRESS: at sentence #700000, processed 15657213 words, keeping 116943 word types\n",
      "2020-10-25 18:47:27,278: INFO: PROGRESS: at sentence #710000, processed 15880202 words, keeping 117596 word types\n",
      "2020-10-25 18:47:27,318: INFO: PROGRESS: at sentence #720000, processed 16105489 words, keeping 118221 word types\n",
      "2020-10-25 18:47:27,358: INFO: PROGRESS: at sentence #730000, processed 16331870 words, keeping 118954 word types\n",
      "2020-10-25 18:47:27,402: INFO: PROGRESS: at sentence #740000, processed 16552903 words, keeping 119668 word types\n",
      "2020-10-25 18:47:27,442: INFO: PROGRESS: at sentence #750000, processed 16771230 words, keeping 120295 word types\n",
      "2020-10-25 18:47:27,481: INFO: PROGRESS: at sentence #760000, processed 16990622 words, keeping 120930 word types\n",
      "2020-10-25 18:47:27,525: INFO: PROGRESS: at sentence #770000, processed 17217759 words, keeping 121703 word types\n",
      "2020-10-25 18:47:27,566: INFO: PROGRESS: at sentence #780000, processed 17447905 words, keeping 122402 word types\n",
      "2020-10-25 18:47:27,605: INFO: PROGRESS: at sentence #790000, processed 17674981 words, keeping 123066 word types\n",
      "2020-10-25 18:47:27,628: INFO: collected 123504 word types from a corpus of 17798082 raw words and 795538 sentences\n",
      "2020-10-25 18:47:27,629: INFO: Loading a fresh vocabulary\n",
      "2020-10-25 18:47:27,690: INFO: effective_min_count=40 retains 16490 unique words (13% of original 123504, drops 107014)\n",
      "2020-10-25 18:47:27,690: INFO: effective_min_count=40 leaves 17238940 word corpus (96% of original 17798082, drops 559142)\n",
      "2020-10-25 18:47:27,730: INFO: deleting the raw counts dictionary of 123504 items\n",
      "2020-10-25 18:47:27,733: INFO: sample=0.001 downsamples 48 most-common words\n",
      "2020-10-25 18:47:27,734: INFO: downsampling leaves estimated 12749658 word corpus (74.0% of prior 17238940)\n",
      "2020-10-25 18:47:27,776: INFO: estimated required memory for 16490 words and 300 dimensions: 47821000 bytes\n",
      "2020-10-25 18:47:27,777: INFO: resetting layer weights\n",
      "2020-10-25 18:47:30,575: INFO: training model with 4 workers on 16490 vocabulary and 300 features, using sg=0 hs=0 sample=0.001 negative=5 window=10\n",
      "2020-10-25 18:47:31,588: INFO: EPOCH 1 - PROGRESS: at 8.33% examples, 1050269 words/s, in_qsize 7, out_qsize 0\n",
      "2020-10-25 18:47:32,598: INFO: EPOCH 1 - PROGRESS: at 17.69% examples, 1110161 words/s, in_qsize 8, out_qsize 0\n",
      "2020-10-25 18:47:33,606: INFO: EPOCH 1 - PROGRESS: at 27.20% examples, 1139772 words/s, in_qsize 7, out_qsize 0\n",
      "2020-10-25 18:47:34,611: INFO: EPOCH 1 - PROGRESS: at 36.17% examples, 1137055 words/s, in_qsize 7, out_qsize 0\n",
      "2020-10-25 18:47:35,612: INFO: EPOCH 1 - PROGRESS: at 44.89% examples, 1132879 words/s, in_qsize 7, out_qsize 0\n",
      "2020-10-25 18:47:36,614: INFO: EPOCH 1 - PROGRESS: at 54.37% examples, 1146334 words/s, in_qsize 7, out_qsize 0\n",
      "2020-10-25 18:47:37,623: INFO: EPOCH 1 - PROGRESS: at 63.73% examples, 1152519 words/s, in_qsize 7, out_qsize 0\n",
      "2020-10-25 18:47:38,630: INFO: EPOCH 1 - PROGRESS: at 72.44% examples, 1147090 words/s, in_qsize 7, out_qsize 0\n",
      "2020-10-25 18:47:39,630: INFO: EPOCH 1 - PROGRESS: at 80.81% examples, 1138059 words/s, in_qsize 7, out_qsize 0\n",
      "2020-10-25 18:47:40,636: INFO: EPOCH 1 - PROGRESS: at 89.68% examples, 1137409 words/s, in_qsize 7, out_qsize 0\n",
      "2020-10-25 18:47:41,645: INFO: EPOCH 1 - PROGRESS: at 99.33% examples, 1144777 words/s, in_qsize 7, out_qsize 0\n",
      "2020-10-25 18:47:41,697: INFO: worker thread finished; awaiting finish of 3 more threads\n",
      "2020-10-25 18:47:41,706: INFO: worker thread finished; awaiting finish of 2 more threads\n",
      "2020-10-25 18:47:41,712: INFO: worker thread finished; awaiting finish of 1 more threads\n",
      "2020-10-25 18:47:41,715: INFO: worker thread finished; awaiting finish of 0 more threads\n",
      "2020-10-25 18:47:41,716: INFO: EPOCH - 1 : training on 17798082 raw words (12750915 effective words) took 11.1s, 1145202 effective words/s\n",
      "2020-10-25 18:47:42,726: INFO: EPOCH 2 - PROGRESS: at 9.00% examples, 1141708 words/s, in_qsize 7, out_qsize 0\n",
      "2020-10-25 18:47:43,728: INFO: EPOCH 2 - PROGRESS: at 18.25% examples, 1152801 words/s, in_qsize 7, out_qsize 0\n",
      "2020-10-25 18:47:44,734: INFO: EPOCH 2 - PROGRESS: at 27.52% examples, 1158952 words/s, in_qsize 7, out_qsize 0\n",
      "2020-10-25 18:47:45,737: INFO: EPOCH 2 - PROGRESS: at 36.79% examples, 1161625 words/s, in_qsize 7, out_qsize 0\n",
      "2020-10-25 18:47:46,738: INFO: EPOCH 2 - PROGRESS: at 46.00% examples, 1165015 words/s, in_qsize 7, out_qsize 0\n",
      "2020-10-25 18:47:47,743: INFO: EPOCH 2 - PROGRESS: at 55.10% examples, 1164081 words/s, in_qsize 7, out_qsize 0\n",
      "2020-10-25 18:47:48,748: INFO: EPOCH 2 - PROGRESS: at 64.05% examples, 1161553 words/s, in_qsize 7, out_qsize 0\n",
      "2020-10-25 18:47:49,763: INFO: EPOCH 2 - PROGRESS: at 73.28% examples, 1161516 words/s, in_qsize 7, out_qsize 0\n",
      "2020-10-25 18:47:50,766: INFO: EPOCH 2 - PROGRESS: at 82.72% examples, 1165515 words/s, in_qsize 7, out_qsize 0\n",
      "2020-10-25 18:47:51,768: INFO: EPOCH 2 - PROGRESS: at 92.04% examples, 1168227 words/s, in_qsize 7, out_qsize 0\n",
      "2020-10-25 18:47:52,601: INFO: worker thread finished; awaiting finish of 3 more threads\n",
      "2020-10-25 18:47:52,607: INFO: worker thread finished; awaiting finish of 2 more threads\n",
      "2020-10-25 18:47:52,610: INFO: worker thread finished; awaiting finish of 1 more threads\n",
      "2020-10-25 18:47:52,613: INFO: worker thread finished; awaiting finish of 0 more threads\n",
      "2020-10-25 18:47:52,614: INFO: EPOCH - 2 : training on 17798082 raw words (12748485 effective words) took 10.9s, 1170681 effective words/s\n",
      "2020-10-25 18:47:53,625: INFO: EPOCH 3 - PROGRESS: at 9.12% examples, 1152268 words/s, in_qsize 7, out_qsize 0\n",
      "2020-10-25 18:47:54,625: INFO: EPOCH 3 - PROGRESS: at 18.36% examples, 1158641 words/s, in_qsize 7, out_qsize 0\n",
      "2020-10-25 18:47:55,634: INFO: EPOCH 3 - PROGRESS: at 27.69% examples, 1164440 words/s, in_qsize 7, out_qsize 0\n",
      "2020-10-25 18:47:56,640: INFO: EPOCH 3 - PROGRESS: at 37.06% examples, 1168091 words/s, in_qsize 7, out_qsize 0\n",
      "2020-10-25 18:47:57,642: INFO: EPOCH 3 - PROGRESS: at 46.11% examples, 1165648 words/s, in_qsize 7, out_qsize 0\n",
      "2020-10-25 18:47:58,647: INFO: EPOCH 3 - PROGRESS: at 55.22% examples, 1164793 words/s, in_qsize 7, out_qsize 0\n",
      "2020-10-25 18:47:59,647: INFO: EPOCH 3 - PROGRESS: at 64.28% examples, 1164884 words/s, in_qsize 7, out_qsize 0\n",
      "2020-10-25 18:48:00,648: INFO: EPOCH 3 - PROGRESS: at 73.56% examples, 1167632 words/s, in_qsize 8, out_qsize 0\n",
      "2020-10-25 18:48:01,648: INFO: EPOCH 3 - PROGRESS: at 82.94% examples, 1170592 words/s, in_qsize 7, out_qsize 0\n",
      "2020-10-25 18:48:02,654: INFO: EPOCH 3 - PROGRESS: at 92.04% examples, 1169487 words/s, in_qsize 7, out_qsize 0\n",
      "2020-10-25 18:48:03,522: INFO: worker thread finished; awaiting finish of 3 more threads\n",
      "2020-10-25 18:48:03,527: INFO: worker thread finished; awaiting finish of 2 more threads\n",
      "2020-10-25 18:48:03,528: INFO: worker thread finished; awaiting finish of 1 more threads\n",
      "2020-10-25 18:48:03,533: INFO: worker thread finished; awaiting finish of 0 more threads\n",
      "2020-10-25 18:48:03,534: INFO: EPOCH - 3 : training on 17798082 raw words (12749615 effective words) took 10.9s, 1168203 effective words/s\n",
      "2020-10-25 18:48:04,540: INFO: EPOCH 4 - PROGRESS: at 9.12% examples, 1157498 words/s, in_qsize 7, out_qsize 0\n",
      "2020-10-25 18:48:05,541: INFO: EPOCH 4 - PROGRESS: at 18.42% examples, 1164335 words/s, in_qsize 7, out_qsize 0\n",
      "2020-10-25 18:48:06,543: INFO: EPOCH 4 - PROGRESS: at 27.74% examples, 1171204 words/s, in_qsize 7, out_qsize 0\n",
      "2020-10-25 18:48:07,546: INFO: EPOCH 4 - PROGRESS: at 37.06% examples, 1172054 words/s, in_qsize 7, out_qsize 0\n",
      "2020-10-25 18:48:08,548: INFO: EPOCH 4 - PROGRESS: at 46.28% examples, 1173185 words/s, in_qsize 8, out_qsize 0\n",
      "2020-10-25 18:48:09,549: INFO: EPOCH 4 - PROGRESS: at 55.55% examples, 1175292 words/s, in_qsize 7, out_qsize 0\n",
      "2020-10-25 18:48:10,549: INFO: EPOCH 4 - PROGRESS: at 64.79% examples, 1176719 words/s, in_qsize 7, out_qsize 0\n",
      "2020-10-25 18:48:11,550: INFO: EPOCH 4 - PROGRESS: at 74.17% examples, 1179807 words/s, in_qsize 7, out_qsize 0\n",
      "2020-10-25 18:48:12,556: INFO: EPOCH 4 - PROGRESS: at 83.73% examples, 1183000 words/s, in_qsize 7, out_qsize 0\n",
      "2020-10-25 18:48:13,557: INFO: EPOCH 4 - PROGRESS: at 93.18% examples, 1185400 words/s, in_qsize 8, out_qsize 0\n"
     ]
    },
    {
     "name": "stderr",
     "output_type": "stream",
     "text": [
      "2020-10-25 18:48:14,265: INFO: worker thread finished; awaiting finish of 3 more threads\n",
      "2020-10-25 18:48:14,271: INFO: worker thread finished; awaiting finish of 2 more threads\n",
      "2020-10-25 18:48:14,272: INFO: worker thread finished; awaiting finish of 1 more threads\n",
      "2020-10-25 18:48:14,279: INFO: worker thread finished; awaiting finish of 0 more threads\n",
      "2020-10-25 18:48:14,280: INFO: EPOCH - 4 : training on 17798082 raw words (12748380 effective words) took 10.7s, 1186920 effective words/s\n",
      "2020-10-25 18:48:15,286: INFO: EPOCH 5 - PROGRESS: at 9.40% examples, 1190577 words/s, in_qsize 7, out_qsize 0\n",
      "2020-10-25 18:48:16,287: INFO: EPOCH 5 - PROGRESS: at 18.98% examples, 1199443 words/s, in_qsize 7, out_qsize 0\n",
      "2020-10-25 18:48:17,291: INFO: EPOCH 5 - PROGRESS: at 28.03% examples, 1181757 words/s, in_qsize 7, out_qsize 0\n",
      "2020-10-25 18:48:18,295: INFO: EPOCH 5 - PROGRESS: at 36.95% examples, 1167535 words/s, in_qsize 7, out_qsize 0\n",
      "2020-10-25 18:48:19,295: INFO: EPOCH 5 - PROGRESS: at 46.22% examples, 1171210 words/s, in_qsize 7, out_qsize 0\n",
      "2020-10-25 18:48:20,298: INFO: EPOCH 5 - PROGRESS: at 55.38% examples, 1171136 words/s, in_qsize 7, out_qsize 0\n",
      "2020-10-25 18:48:21,298: INFO: EPOCH 5 - PROGRESS: at 64.44% examples, 1170100 words/s, in_qsize 7, out_qsize 0\n",
      "2020-10-25 18:48:22,306: INFO: EPOCH 5 - PROGRESS: at 73.68% examples, 1170523 words/s, in_qsize 7, out_qsize 0\n",
      "2020-10-25 18:48:23,309: INFO: EPOCH 5 - PROGRESS: at 82.82% examples, 1169353 words/s, in_qsize 7, out_qsize 0\n",
      "2020-10-25 18:48:24,319: INFO: EPOCH 5 - PROGRESS: at 92.04% examples, 1169251 words/s, in_qsize 7, out_qsize 0\n",
      "2020-10-25 18:48:25,169: INFO: worker thread finished; awaiting finish of 3 more threads\n",
      "2020-10-25 18:48:25,176: INFO: worker thread finished; awaiting finish of 2 more threads\n",
      "2020-10-25 18:48:25,181: INFO: worker thread finished; awaiting finish of 1 more threads\n",
      "2020-10-25 18:48:25,185: INFO: worker thread finished; awaiting finish of 0 more threads\n",
      "2020-10-25 18:48:25,186: INFO: EPOCH - 5 : training on 17798082 raw words (12749509 effective words) took 10.9s, 1169451 effective words/s\n",
      "2020-10-25 18:48:25,186: INFO: training on a 88990410 raw words (63746904 effective words) took 54.6s, 1167293 effective words/s\n",
      "2020-10-25 18:48:25,187: INFO: precomputing L2-norms of word weight vectors\n",
      "2020-10-25 18:48:25,303: INFO: saving Word2Vec object under myWord2VecModel, separately None\n",
      "2020-10-25 18:48:25,304: INFO: not storing attribute vectors_norm\n",
      "2020-10-25 18:48:25,305: INFO: not storing attribute cum_table\n",
      "2020-10-25 18:48:25,857: INFO: saved myWord2VecModel\n"
     ]
    }
   ],
   "source": [
    "import logging\n",
    "logging.basicConfig(format='%(asctime)s: %(levelname)s: %(message)s', level=logging.INFO)\n",
    "\n",
    "num_features = 300\n",
    "min_word_count = 40\n",
    "num_workers = 4\n",
    "context = 10\n",
    "downsampling = 1e-3\n",
    "\n",
    "# Initialize and train the model\n",
    "from gensim.models import word2vec\n",
    "model = word2vec.Word2Vec(sentences, workers=num_workers, size=num_features, min_count=min_word_count, window=context, sample=downsampling)\n",
    "model.init_sims(replace=True) # calling init_sims will make the model much more memory-efficient\n",
    "model_name = \"myWord2VecModel\"\n",
    "model.save(model_name)"
   ]
  },
  {
   "cell_type": "code",
   "execution_count": 8,
   "metadata": {},
   "outputs": [
    {
     "name": "stderr",
     "output_type": "stream",
     "text": [
      "D:\\Develop\\Anaconda\\Lib\\site-packages\\ipykernel_launcher.py:1: DeprecationWarning: Call to deprecated `doesnt_match` (Method will be removed in 4.0.0, use self.wv.doesnt_match() instead).\n",
      "  \"\"\"Entry point for launching an IPython kernel.\n",
      "D:\\Develop\\Anaconda\\Lib\\site-packages\\gensim\\models\\keyedvectors.py:893: FutureWarning: arrays to stack must be passed as a \"sequence\" type such as list or tuple. Support for non-sequence iterables such as generators is deprecated as of NumPy 1.16 and will raise an error in the future.\n",
      "  vectors = vstack(self.word_vec(word, use_norm=True) for word in used_words).astype(REAL)\n"
     ]
    },
    {
     "data": {
      "text/plain": [
       "'kitchen'"
      ]
     },
     "execution_count": 8,
     "metadata": {},
     "output_type": "execute_result"
    }
   ],
   "source": [
    "model.doesnt_match(\"man woman child kitchen\".split())"
   ]
  },
  {
   "cell_type": "code",
   "execution_count": 17,
   "metadata": {},
   "outputs": [
    {
     "name": "stderr",
     "output_type": "stream",
     "text": [
      "D:\\Develop\\Anaconda\\Lib\\site-packages\\ipykernel_launcher.py:1: DeprecationWarning: Call to deprecated `doesnt_match` (Method will be removed in 4.0.0, use self.wv.doesnt_match() instead).\n",
      "  \"\"\"Entry point for launching an IPython kernel.\n",
      "D:\\Develop\\Anaconda\\Lib\\site-packages\\gensim\\models\\keyedvectors.py:893: FutureWarning: arrays to stack must be passed as a \"sequence\" type such as list or tuple. Support for non-sequence iterables such as generators is deprecated as of NumPy 1.16 and will raise an error in the future.\n",
      "  vectors = vstack(self.word_vec(word, use_norm=True) for word in used_words).astype(REAL)\n"
     ]
    },
    {
     "data": {
      "text/plain": [
       "'berlin'"
      ]
     },
     "execution_count": 17,
     "metadata": {},
     "output_type": "execute_result"
    }
   ],
   "source": [
    "model.doesnt_match(\"france england germany berlin\".split())"
   ]
  },
  {
   "cell_type": "code",
   "execution_count": 18,
   "metadata": {},
   "outputs": [
    {
     "name": "stderr",
     "output_type": "stream",
     "text": [
      "D:\\Develop\\Anaconda\\Lib\\site-packages\\ipykernel_launcher.py:1: DeprecationWarning: Call to deprecated `most_similar` (Method will be removed in 4.0.0, use self.wv.most_similar() instead).\n",
      "  \"\"\"Entry point for launching an IPython kernel.\n"
     ]
    },
    {
     "data": {
      "text/plain": [
       "[('woman', 0.6223161220550537),\n",
       " ('lady', 0.595390796661377),\n",
       " ('lad', 0.5683529376983643),\n",
       " ('monk', 0.5371238589286804),\n",
       " ('men', 0.5296732783317566),\n",
       " ('millionaire', 0.5188815593719482),\n",
       " ('guy', 0.5160331726074219),\n",
       " ('priest', 0.5098307728767395),\n",
       " ('businessman', 0.5035345554351807),\n",
       " ('person', 0.49785810708999634)]"
      ]
     },
     "execution_count": 18,
     "metadata": {},
     "output_type": "execute_result"
    }
   ],
   "source": [
    "model.most_similar(\"man\")"
   ]
  },
  {
   "cell_type": "code",
   "execution_count": null,
   "metadata": {},
   "outputs": [],
   "source": []
  }
 ],
 "metadata": {
  "kernelspec": {
   "display_name": "Python 3",
   "language": "python",
   "name": "python3"
  },
  "language_info": {
   "codemirror_mode": {
    "name": "ipython",
    "version": 3
   },
   "file_extension": ".py",
   "mimetype": "text/x-python",
   "name": "python",
   "nbconvert_exporter": "python",
   "pygments_lexer": "ipython3",
   "version": "3.6.5"
  }
 },
 "nbformat": 4,
 "nbformat_minor": 2
}
