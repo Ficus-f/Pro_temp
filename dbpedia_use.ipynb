{
 "cells": [
  {
   "cell_type": "markdown",
   "metadata": {},
   "source": [
    "## 输入实体（名称），返回对应实体（entity）"
   ]
  },
  {
   "cell_type": "code",
   "execution_count": 7,
   "metadata": {
    "scrolled": true
   },
   "outputs": [
    {
     "data": {
      "text/plain": [
       "'{\"status\": \"ok\", \"ret\": [\"葡萄（葡萄属植物）\", \"葡萄（电视剧《守望的天空》主人物）\", \"葡萄（网络文学小说作者）\", \"葡萄（网络歌手）\", \"葡萄（《葡萄》题诗）\", \"葡萄（2011年大陆电视剧）\", \"葡萄（昌云军，管雪强主编图书）\", \"葡萄（lf兄弟演唱的歌曲）\", \"葡萄（缅甸克钦邦下辖县）\", \"葡萄（韩红演唱歌曲）\", \"葡萄（郝蕾演唱歌曲）\"]}'"
      ]
     },
     "execution_count": 7,
     "metadata": {},
     "output_type": "execute_result"
    }
   ],
   "source": [
    "from urllib.parse import quote\n",
    "import urllib\n",
    "import urllib.request\n",
    "import json\n",
    "import numpy as np\n",
    "\n",
    "# 输入实体（名称），返回对应实体（entity）的列表，json格式\n",
    "# 格式：http://shuyantech.com/api/cndbpedia/ment2ent?q=**      # **是查询的实体名\n",
    "input_entity = quote('葡萄')\n",
    "input_url = 'http://shuyantech.com/api/cndbpedia/ment2ent?q='\n",
    "url = input_url + input_entity\n",
    "# print(url)\n",
    "response = urllib.request.urlopen(url)\n",
    "response.read().decode('utf-8')"
   ]
  },
  {
   "cell_type": "markdown",
   "metadata": {},
   "source": [
    "## 输入实体名，返回实体全部的三元组知识"
   ]
  },
  {
   "cell_type": "code",
   "execution_count": 9,
   "metadata": {},
   "outputs": [
    {
     "data": {
      "text/plain": [
       "'{\"status\": \"ok\", \"ret\": [[\"中文名\", \"沈阳航空航天大学\"], [\"外文名称\", \"Shenyang Aerospace University\"], [\"简称\", \"沈航\"], [\"简称\", \"SAU\"], [\"创办时间\", \"1952年\"], [\"类别\", \"公立大学\"], [\"类型\", \"理工类\"], [\"属性\", \"省部共建高校\"], [\"属性\", \"卓越工程师教育培养计划（2010年入选）\"], [\"主管部门\", \"辽宁省\"], [\"现任领导\", \"书记：翟文豹\"], [\"现任领导\", \"校长：孙小平\"], [\"专职院士\", \"中国工程院院士1人\"], [\"本科专业\", \"58个\"], [\"硕士点\", \"学术学位授权一级学科15个\"], [\"硕士点\", \"专业学位授权类别3个\"], [\"硕士点\", \"专业学位授权领域9个\"], [\"博士点\", \"学术学位授权一级学科1个\"], [\"院系设置\", \"22个教学、科研单位\"], [\"校训\", \"德能并进，勇毅翔远\"], [\"校歌\", \"梦圆长天\"], [\"校庆日\", \"每年9月份的第三个星期日\"], [\"地址\", \"辽宁省沈阳市沈北新区道义南大街37号\"], [\"院校代码\", \"10143\"], [\"知名校友\", \"滕连富\"], [\"知名校友\", \"刘政崇\"], [\"知名校友\", \"徐占斌\"], [\"知名校友\", \"郭殿满\"], [\"知名校友\", \"田玉龙\"], [\"知名教师\", \"杨凤田\"], [\"知名教师\", \"冷劲松\"], [\"知名教师\", \"金树颖\"], [\"知名教师\", \"洪涛\"], [\"知名教师\", \"王亚杰\"], [\"DESC\", \"沈阳航空航天大学（Shenyang Aerospace University，SAU），简称“沈航”，是一所以航空宇航为特色，以工为主，包含工、理、文、经、管等多科性高等院校，是教育部、中国航空工业集团有限公司与辽宁省人民政府三方共建高校，国防科工局与辽宁省人民政府共建高校，空军依托培养后备军官的全国18所地方院校之一，入选教育部“卓越工程师教育培养计划”试点。\\\\n学校始建于1952年，是原航空工业部所属的6所本科航空院校之一，初命名为“沈阳航空工业学校”，历经“东北第一工业学校”、“沈阳第一工业学校”、“沈阳航空工业学校”、“沈阳航空工业专科学校”、“沈阳航空学院”、“沈阳航空工业学院”等阶段，于2010年3月正式更名为“沈阳航空航天大学”。\\\\n截至2018年9月，学校占地1731亩，建筑面积81.6万平方米，固定资产总值19.6亿元，教学科研仪器设备总值4.71亿元；下设22个教学、科研单位，有58个本科专业，1个博士学位一级学科授权点，15个硕士学位一级学科授权点，12个专业硕士学位点；有教职工1600余人，各类学生22000余人。\"]]}'"
      ]
     },
     "execution_count": 9,
     "metadata": {},
     "output_type": "execute_result"
    }
   ],
   "source": [
    "# 输入实体名，返回实体全部的三元组知识\n",
    "input_entity_name = quote('沈阳航空航天大学')\n",
    "input_url = 'http://shuyantech.com/api/cndbpedia/avpair?q='\n",
    "url = input_url + input_entity_name\n",
    "response = urllib.request.urlopen(url)\n",
    "response.read().decode('utf-8')"
   ]
  },
  {
   "cell_type": "markdown",
   "metadata": {},
   "source": [
    "## 给定实体名和属性名，返回值"
   ]
  },
  {
   "cell_type": "code",
   "execution_count": 13,
   "metadata": {},
   "outputs": [
    {
     "data": {
      "text/plain": [
       "'{\"status\": \"ok\", \"ret\": [\"中国工程院院士1人\"]}'"
      ]
     },
     "execution_count": 13,
     "metadata": {},
     "output_type": "execute_result"
    }
   ],
   "source": [
    "# 给定实体名和属性名，返回值\n",
    "input_entity_name = quote('沈阳航空航天大学')\n",
    "input_attr = quote('专职院士')\n",
    "input_url = 'http://shuyantech.com/api/cndbpedia/value?q='\n",
    "url = input_url + input_entity_name + '&attr=' + input_attr\n",
    "response = urllib.request.urlopen(url)\n",
    "response.read().decode('utf-8')"
   ]
  }
 ],
 "metadata": {
  "kernelspec": {
   "display_name": "Python 3",
   "language": "python",
   "name": "python3"
  },
  "language_info": {
   "codemirror_mode": {
    "name": "ipython",
    "version": 3
   },
   "file_extension": ".py",
   "mimetype": "text/x-python",
   "name": "python",
   "nbconvert_exporter": "python",
   "pygments_lexer": "ipython3",
   "version": "3.6.5"
  }
 },
 "nbformat": 4,
 "nbformat_minor": 2
}
